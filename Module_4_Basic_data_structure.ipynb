{
  "nbformat": 4,
  "nbformat_minor": 0,
  "metadata": {
    "colab": {
      "provenance": []
    },
    "kernelspec": {
      "name": "python3",
      "display_name": "Python 3"
    },
    "language_info": {
      "name": "python"
    }
  },
  "cells": [
    {
      "cell_type": "markdown",
      "source": [
        "# Basic Data Stucture"
      ],
      "metadata": {
        "id": "mfGit1-FpZDZ"
      }
    },
    {
      "cell_type": "markdown",
      "source": [
        "**Data Types and Structures Questions**"
      ],
      "metadata": {
        "id": "Cg917ndiPHfH"
      }
    },
    {
      "cell_type": "markdown",
      "source": [
        "1. What are data structures, and why are they important?\n",
        "\n",
        " * Data structures are ways to organize and store data in a computer so it can be used efficiently.\n",
        "\n",
        "* They are important because they help:\n",
        "\n",
        "* Access and modify data quickly\n",
        "\n",
        "* Save memory and processing time\n",
        "\n",
        "* Solve problems effectively using the right tools (e.g., arrays, lists, trees, graphs)\n",
        "\n",
        "\n",
        "\n",
        "2. Explain the difference between mutable and immutable data types with\n",
        "   examples?\n",
        "\n",
        "    1. Mutable Data Types:\n",
        "\n",
        "     * These can be changed after they are created.\n",
        "\n",
        "     * You can modify, add, or remove elements without changing the object's identity.\n",
        "\n",
        "     Examples: list, dict, set, bytearray\n",
        "\n",
        "    Example:\n",
        "        \n",
        "        my_list = [1, 2, 3]\n",
        "\n",
        "         my_list.append(4)\n",
        "\n",
        "        print(my_list)  \n",
        "        # Output: [1, 2, 3, 4]\n",
        "\n",
        "   2. Immutable Data Types:\n",
        "\n",
        "     * These cannot be changed after they are created.\n",
        "\n",
        "      * Any modification creates a new object.\n",
        "\n",
        " Examples: int, float, str, tuple, bool, frozenset\n",
        "\n",
        " Example:\n",
        "\n",
        "my_str = \"hello\n",
        "\n",
        "my_str += \" world\"\n",
        "\n",
        "print(my_str)  \n",
        "# Output: \"hello world\"\n",
        "\n",
        "\n",
        "3. What are the main differences between lists and tuples in Python?\n",
        "\n",
        "   \n",
        "  *  List:-\n",
        "   \n",
        "   * Lists are mutable(can be modified).\n",
        "\n",
        "   * Iteration over lists is time-consuming.\n",
        "\n",
        "   * Lists are better for performing operations, such as insertion and deletion.\n",
        "\n",
        "   * Lists consume more memory.\n",
        "\n",
        "   * Lists have several built-in methods.\n",
        "\n",
        "\n",
        "  * tuples:-\n",
        "\n",
        "    * Tuples are immutable(cannot be modified).\n",
        "\n",
        "    * Iterations over tuple is faster\n",
        "\n",
        "    * Tuples are more suitable for accessing elements efficiently.\n",
        "\n",
        "    * Tuples consumes less memory\n",
        "\n",
        "    * Tuples have fewer built-in methods.\n",
        "\n",
        "4.  Describe how dictionaries store data?\n",
        "\n",
        "    * Python dictionary is a data structure that stores the value in key: value pairs. Values in a dictionary can be of any data type and can be duplicated, whereas keys can't be repeated and must be immutable.\n",
        "\n",
        "    * Example: Here, The data is stored in key:value pairs in dictionaries, which makes it easier to find values.\n",
        "\n",
        "    d = {1: 'Geeks', 2: 'For', 3: 'Geeks'}\n",
        "    print(d)\n",
        "\n",
        "    Output\n",
        "    {1: 'Geeks', 2: 'For', 3: 'Geeks'}\n",
        "    \n",
        "\n",
        "5. Why might you use a set instead of a list in Python?\n",
        "\n",
        "  * Sets are useful because they automatically eliminate duplicate values, making them ideal for quickly removing duplicates from lists or tuples. They also support efficient mathematical operations like unions, intersections, and differences, which are helpful when comparing or combining data.\n",
        "\n",
        "6. What is a string in Python, and how is it different from a list?\n",
        "\n",
        "  * A string in Python is a sequence of characters enclosed in quotes:\n",
        "\n",
        "      text = \"Hello, world!\"\n",
        "      It's used to store and manipulate textual data.\n",
        "\n",
        "\n",
        "  * How is it Different from a List?\n",
        "\n",
        "  * String:-\n",
        "\n",
        "    Sequence of characters\n",
        "    \n",
        "    No (immutable)\n",
        "\n",
        "    Quoted (\"text\" or 'text')\n",
        "\n",
        "    \"Hello\"[1] → 'e'\n",
        "\n",
        "  * List:-\n",
        "\n",
        "     Sequence of any data types\n",
        "\n",
        "     Yes (mutable)\n",
        "\n",
        "     Square brackets ([1, 2, 3])\n",
        "\n",
        "     [10, 20, 30][1] → 20\n",
        "\n",
        "7.  How do tuples ensure data integrity in Python?\n",
        "                                  \n",
        "\n",
        "   | Feature             | How It Helps Data Integrity        |\n",
        "| ------------------- | ---------------------------------- |\n",
        "| **Immutable**       | Prevents accidental modification   |\n",
        "| **Hashable**        | Can be safely used as dict keys    |\n",
        "| **Fixed structure** | Great for storing constant records |\n",
        "| **Safe sharing**    | Can be passed around without worry |\n",
        "\n",
        "\n",
        "8. What is a hash table, and how does it relate to dictionaries in Python?\n",
        "\n",
        "  * A hash table is a data structure that stores key-value pairs and allows for fast data access using a process called hashing.\n",
        "\n",
        "  -> How It Relates to Python Dictionaries\n",
        "  * A Python dictionary is a built-in implementation of a hash table.\n",
        "\n",
        "  # Example dictionary\n",
        "    student = {\"name\": \"Alice\", \"age\": 20}\n",
        "    \n",
        "     \"name\" and \"age\" are keys\n",
        "\n",
        "    \"Alice\" and 20 are values\n",
        "\n",
        "    Python internally uses a hash table to map each key to its value.\n",
        "\n",
        "9. Can lists contain different data types in Python?\n",
        "\n",
        "   * Yes, Lists Can Contain Different Data Types in Python.\n",
        "   * Python lists are flexible and can store elements of different data types in the same list.\n",
        "\n",
        "   Example:-\n",
        "\n",
        "   mixed_list = [42, \"hello\", 3.14, True, [1, 2], {\"key\": \"value\"}]\n",
        "\n",
        "\n",
        "   This list contains:\n",
        "\n",
        "   * An integer (42)\n",
        "  \n",
        "   * A string (\"hello\")\n",
        "\n",
        "   * A float (3.14)\n",
        "\n",
        "   * A boolean (True)\n",
        "\n",
        "   * Another list ([1, 2])\n",
        "\n",
        "   * A dictionary ({\"key\": \"value\"})\n",
        "\n",
        "10. Explain why strings are immutable in Python?\n",
        "  \n",
        "    * Strings in Python are \"immutable\" which means they can not be changed after they are created. Some other immutable data types are integers, float, boolean, etc.\n",
        "\n",
        "   * The immutability of Python string is very useful as it helps in hashing, performance optimization, safety, ease of use, etc.\n",
        "\n",
        "\n",
        "11. What advantages do dictionaries offer over lists for certain tasks?\n",
        "\n",
        "    * Dictionaries offer several key advantages over lists for certain tasks, particularly when it comes to data organization and performance. Here are the main benefits:\n",
        "\n",
        "    1. Faster Lookup Time:-\n",
        "\n",
        "    * Dictionaries provide constant-time (O(1)) lookup for keys using hashing.\n",
        "\n",
        "    *  Lists require linear-time (O(n)) search since you may have to check each element until you find the one you need.\n",
        "\n",
        "    * Use Case: When you need to look up values by a specific identifier (like a username or ID), a dictionary is much faster.\n",
        "\n",
        "   2. Key-Value Pair Structure:-\n",
        "\n",
        "    *  Dictionaries store data in key-value pairs, making it easy to associate related information.\n",
        "\n",
        "    * Lists only store values without inherent labels.\n",
        "\n",
        "    * Use Case: Managing attributes of an object (e.g., a student’s name, age, and grade).\n",
        "\n",
        "    3. Avoiding Duplicate Keys:-\n",
        "\n",
        "    * Dictionaries automatically prevent duplicate keys.\n",
        "\n",
        "    * Lists can have duplicate values, which can complicate certain operations (e.g., ensuring uniqueness).\n",
        "\n",
        "    4. Dynamic and Flexible Data Representation:-\n",
        "\n",
        "    * Dictionaries can grow dynamically and store nested or complex structures (e.g., dictionaries inside dictionaries).\n",
        "\n",
        "    * This makes them excellent for JSON-like data or configurations.\n",
        "\n",
        "12.  Describe a scenario where using a tuple would be preferable over a     \n",
        "     list?\n",
        "\n",
        "     * A tuple is preferable over a list in scenarios where immutability, performance, or use as a dictionary key is important. Here's a clear example:\n",
        "\n",
        "     * Scenario: Storing Coordinates in a Mapping Application:-\n",
        "\n",
        "     Imagine you're developing a mapping application that stores GPS coordinates of various landmarks.\n",
        "\n",
        "     coordinates = (37.7749, -122.4194)  # Latitude and Longitude of San Francisco    \n",
        "\n",
        "\n",
        "  * Why a tuple is preferable:\n",
        "       Immutability:\n",
        "\n",
        "       Coordinates shouldn't change after they're created. Tuples are immutable, which ensures that accidental modification is prevented.\n",
        "\n",
        "       Lists, being mutable, could be unintentionally altered, leading to bugs.\n",
        "\n",
        "       Performance:\n",
        "\n",
        "       Tuples are slightly more memory-efficient and faster to access than lists, especially when used in large numbers.\n",
        "\n",
        "       This is helpful if you're dealing with a massive dataset of coordinates.\n",
        "\n",
        "      Hashability:\n",
        "\n",
        "      Tuples can be used as dictionary keys or elements in sets, while lists cannot (because lists are not hashable).\n",
        "\n",
        "      This is useful if you want to map coordinates to place names:\n",
        "\n",
        "     location_map = {\n",
        "     (37.7749, -122.4194): \"San Francisco\",\n",
        "     (40.7128, -74.0060): \"New York\"\n",
        "}\n",
        "\n",
        "13. How do sets handle duplicate values in Python?\n",
        "\n",
        "    * In Python, sets automatically eliminate duplicate values. When you add items to a set, any duplicates are ignored, and only unique values are stored.\n",
        "\n",
        "   * Example:-\n",
        "   my_set = {1, 2, 2, 3, 4, 4, 4, 5}\n",
        "   print(my_set)\n",
        "\n",
        "   #output:-  \n",
        "\n",
        "   {1, 2, 3, 4, 5}\n",
        "   * Even though 2 and 4 appeared multiple times in the original declaration, the set keeps only one occurrence of each.\n",
        "\n",
        "   * Key Features of Sets:-\n",
        "\n",
        "     No duplicates allowed.\n",
        "\n",
        "     Unordered (elements may appear in any order).\n",
        "\n",
        "     Mutable (you can add/remove elements).\n",
        "\n",
        "     Elements must be hashable (so no lists or other sets inside).\n",
        "\n",
        " 14.  How does the “in” keyword work differently for lists and dictionaries?\n",
        "\n",
        "      * The in keyword is used to check membership, but it works differently for lists and dictionaries in Python.\n",
        "\n",
        "* For Lists: Checks for values\n",
        "\n",
        "    fruits = ['apple', 'banana', 'cherry']\n",
        "    print('apple' in fruits)    # True — 'apple' is in the list\n",
        "    print('grape' in fruits)    #  False — 'grape' is not in the list\n",
        "\n",
        "    It checks whether an element (value) exists in the list.\n",
        "\n",
        "    Linear search: Time complexity is O(n) (slower with large lists).\n",
        "\n",
        "* For Dictionaries: Checks for keys\n",
        "\n",
        "   person = {'name': 'Alice', 'age': 30}\n",
        "   print('name' in person)     # True — 'name' is a key\n",
        "   print('Alice' in person)    #  False — 'Alice' is a value, not a key\n",
        "\n",
        "   It checks whether a key exists in the dictionary.\n",
        "\n",
        "   Hash-based lookup: Time complexity is O(1) (much faster than lists).   \n",
        "\n",
        "15. Can you modify the elements of a tuple? Explain why or why not\n",
        "\n",
        "  * No, you cannot modify the elements of a tuple in Python. Tuples are immutable, meaning once a tuple is created, its contents cannot be changed—no adding, removing, or altering individual elements.\n",
        "\n",
        "16. What is a nested dictionary, and give an example of its use case3\n",
        "\n",
        "   * In Python, a nested dictionary is a dictionary inside a dictionary. It's a collection of dictionaries into one single dictionary.\n",
        "\n",
        "   * Use Case: Student Records Management System\n",
        "     Scenario:\n",
        "\n",
        "     You're building a system to manage student information. Each student has:\n",
        "\n",
        "     * A unique ID\n",
        "\n",
        "     * Personal details (name, age)\n",
        "\n",
        "     * A set of subject grades\n",
        "\n",
        "       Why use a nested dictionary?\n",
        "      * Group related data under one key (the student ID)\n",
        "\n",
        "      * Easily access and update nested information\n",
        "\n",
        "      * Scalable structure as more attributes or nested levels are needed\n",
        "\n",
        "Example usage:\n",
        "# Get Alice's math grade\n",
        "print(students[\"1001\"][\"grades\"][\"math\"])  # Output: 90\n",
        "\n",
        "# Add a new grade for Bob\n",
        "students[\"1002\"][\"grades\"][\"science\"] = 91\n",
        "\n",
        "17. Describe the time complexity of accessing elements in a dictionary?\n",
        "\n",
        "    * The time complexity of accessing elements in a Python dictionary is typically O(1) — constant time.\n",
        "\n",
        "    * Why O(1)?\n",
        "\n",
        "    *  Dictionaries use a hash table internally.\n",
        "\n",
        "    * When you access a value using a key (e.g., my_dict['key']), Python:\n",
        "\n",
        "    1. Computes the hash of the key.\n",
        "\n",
        "    2. Jumps directly to the location where the value is stored.\n",
        "\n",
        "     This process doesn't depend on the number of items in the dictionary.\n",
        "\n",
        "18. In what situations are lists preferred over dictionaries?\n",
        "\n",
        "    * Lists are preferred over dictionaries in situations where:\n",
        "\n",
        "    1. Order Matters\n",
        "\n",
        "      * Lists maintain the insertion order of elements (since Python 3.6+).\n",
        "\n",
        "      * If you care about the sequence or need to access items by position (index), use a list.   \n",
        "\n",
        "      # Example\n",
        "\n",
        "      tasks = ['email', 'meeting', 'lunch']\n",
        "\n",
        "    2. Indexed Access is Needed\n",
        "\n",
        "      * Lists allow fast access to items by position (list[index]).\n",
        "\n",
        "      * Use lists when you need to loop through or manipulate items by their index.  \n",
        "\n",
        "      # Example:\n",
        "\n",
        "      print(data[2])  # third item\n",
        "\n",
        "    3. Data Doesn’t Need a Key\n",
        "\n",
        "       * If the data is just a simple sequence of values without labels, a list is more natural and concise.\n",
        "\n",
        "       # Example:\n",
        "\n",
        "       temperatures = [72, 68, 75, 70]\n",
        "\n",
        " 4. Ordering and Sorting\n",
        "\n",
        "       * Lists are great when you need to sort or reverse a collection of items.\n",
        "\n",
        "       # Example:\n",
        "\n",
        "       scores = [85, 92, 78]\n",
        "       scores.sort()\n",
        "\n",
        "19. Why are dictionaries considered unordered, and how does that affect data retrieval?\n",
        "\n",
        "* Dictionaries were historically unordered due to hash-based storage.\n",
        "\n",
        "* From Python 3.7+, they preserve insertion order — but their primary design still revolves around key-based access, not order.\n",
        "\n",
        "* If ordering is essential, consider using:\n",
        "\n",
        "* OrderedDict (for older Python versions)\n",
        "\n",
        "* A list of tuples or custom data structures\n",
        "\n",
        "\n",
        "20. Explain the difference between a list and a dictionary in terms of data retrieval.\n",
        "\n",
        "| Feature                | List                       | Dictionary                                                  |\n",
        "| ---------------------- | -------------------------- | ----------------------------------------------------------- |\n",
        "| Retrieval method       | By **index** (position)    | By **key**                                                  |\n",
        "| Order                  | Maintains order            | Order preserved (Python 3.7+), but irrelevant for retrieval |\n",
        "| Lookup efficiency      | Fast if index known (O(1)) | Fast key-based lookup (O(1))                                |\n",
        "| Use case for retrieval | When position matters      | When you need associative lookup by keys                    |\n",
        "\n",
        "\n",
        "\n",
        "    \n",
        "\n",
        "\n"
      ],
      "metadata": {
        "id": "1zffUnRlpycz"
      }
    },
    {
      "cell_type": "markdown",
      "source": [
        "**Practical** **Question**"
      ],
      "metadata": {
        "id": "-NNOtBdSHLDV"
      }
    },
    {
      "cell_type": "markdown",
      "source": [
        "1. Write a code to create a string with your name and print it?"
      ],
      "metadata": {
        "id": "ELDwFsYMHdIZ"
      }
    },
    {
      "cell_type": "code",
      "source": [
        "# Create a string with the name\n",
        "name = \"Rahul Kumar\"\n",
        "\n",
        "# Print the string\n",
        "print(\"My name is\", name)\n"
      ],
      "metadata": {
        "colab": {
          "base_uri": "https://localhost:8080/"
        },
        "id": "w1I68w0_HiZ8",
        "outputId": "f72de8ae-1d60-423f-a1c2-23c92d8582b6"
      },
      "execution_count": null,
      "outputs": [
        {
          "output_type": "stream",
          "name": "stdout",
          "text": [
            "My name is Rahul Kumar\n"
          ]
        }
      ]
    },
    {
      "cell_type": "markdown",
      "source": [
        "2.Write a code to find the length of the string \"Hello World\"."
      ],
      "metadata": {
        "id": "vPaxA8wAHu59"
      }
    },
    {
      "cell_type": "code",
      "source": [
        "# Define the string\n",
        "text = \"Hello World\"\n",
        "\n",
        "# Find the length of the string\n",
        "length = len(text)\n",
        "\n",
        "# Print the length\n",
        "print(\"The length of the string is:\", length)\n"
      ],
      "metadata": {
        "colab": {
          "base_uri": "https://localhost:8080/"
        },
        "id": "Xt5MPO25H5K1",
        "outputId": "b14d05a0-c931-452c-df3f-14d72dd9d7ae"
      },
      "execution_count": null,
      "outputs": [
        {
          "output_type": "stream",
          "name": "stdout",
          "text": [
            "The length of the string is: 11\n"
          ]
        }
      ]
    },
    {
      "cell_type": "markdown",
      "source": [
        "3. Write a code to slice the first 3 characters from the string \"Python Programming\""
      ],
      "metadata": {
        "id": "D1oko2ZAIIVX"
      }
    },
    {
      "cell_type": "code",
      "source": [
        "# Define the string\n",
        "text = \"Python Programming\"\n",
        "\n",
        "# Slice the first 3 characters\n",
        "first_three = text[:3]\n",
        "\n",
        "# Print the result\n",
        "print(\"The first 3 characters are:\", first_three)\n"
      ],
      "metadata": {
        "colab": {
          "base_uri": "https://localhost:8080/"
        },
        "id": "P48YAmLuIPT7",
        "outputId": "225462fb-4a07-461f-8fa7-435aca567e7a"
      },
      "execution_count": null,
      "outputs": [
        {
          "output_type": "stream",
          "name": "stdout",
          "text": [
            "The first 3 characters are: Pyt\n"
          ]
        }
      ]
    },
    {
      "cell_type": "markdown",
      "source": [
        "4. Write a code to convert the string \"hello\" to uppercase"
      ],
      "metadata": {
        "id": "-dKebACHIdJ2"
      }
    },
    {
      "cell_type": "code",
      "source": [
        "# Define the string\n",
        "text = \"hello\"\n",
        "\n",
        "# Convert to uppercase\n",
        "uppercase_text = text.upper()\n",
        "\n",
        "# Print the result\n",
        "print(\"Uppercase version:\", uppercase_text)\n"
      ],
      "metadata": {
        "colab": {
          "base_uri": "https://localhost:8080/"
        },
        "id": "b4wE3zVIIhw5",
        "outputId": "a39a7f2b-1343-4b03-e724-ba8681404f3d"
      },
      "execution_count": null,
      "outputs": [
        {
          "output_type": "stream",
          "name": "stdout",
          "text": [
            "Uppercase version: HELLO\n"
          ]
        }
      ]
    },
    {
      "cell_type": "markdown",
      "source": [
        "5. Write a code to replace the word \"apple\" with \"orange\" in the string \"I like apple\""
      ],
      "metadata": {
        "id": "xm0zN7VxIqEC"
      }
    },
    {
      "cell_type": "code",
      "source": [
        "# Define the string\n",
        "text = \"I like apple\"\n",
        "\n",
        "# Replace \"apple\" with \"orange\"\n",
        "new_text = text.replace(\"apple\", \"orange\")\n",
        "\n",
        "# Print the result\n",
        "print(\"Updated string:\", new_text)\n"
      ],
      "metadata": {
        "colab": {
          "base_uri": "https://localhost:8080/"
        },
        "id": "YJU3hV2uIx66",
        "outputId": "c2704d80-a2fa-41e7-c0d7-fe1799bf355b"
      },
      "execution_count": null,
      "outputs": [
        {
          "output_type": "stream",
          "name": "stdout",
          "text": [
            "Updated string: I like orange\n"
          ]
        }
      ]
    },
    {
      "cell_type": "markdown",
      "source": [
        "6. Write a code to create a list with numbers 1 to 5 and print it."
      ],
      "metadata": {
        "id": "Er2iTxvEJE_q"
      }
    },
    {
      "cell_type": "code",
      "source": [
        "# Create a list with numbers 1 to 5\n",
        "numbers = [1, 2, 3, 4, 5]\n",
        "\n",
        "# Print the list\n",
        "print(\"List of numbers:\", numbers)\n"
      ],
      "metadata": {
        "colab": {
          "base_uri": "https://localhost:8080/"
        },
        "id": "YwfBmBo9JHud",
        "outputId": "b35d4d58-12e4-44e7-dae8-10e362c673dd"
      },
      "execution_count": null,
      "outputs": [
        {
          "output_type": "stream",
          "name": "stdout",
          "text": [
            "List of numbers: [1, 2, 3, 4, 5]\n"
          ]
        }
      ]
    },
    {
      "cell_type": "markdown",
      "source": [
        "7. Write a code to append the number 10 to the list [1, 2, 3, 4]"
      ],
      "metadata": {
        "id": "SteYgFZ1JRw2"
      }
    },
    {
      "cell_type": "code",
      "source": [
        "# Define the list\n",
        "numbers = [1, 2, 3, 4]\n",
        "\n",
        "# Append 10 to the list\n",
        "numbers.append(10)\n",
        "\n",
        "# Print the updated list\n",
        "print(\"Updated list:\", numbers)\n"
      ],
      "metadata": {
        "colab": {
          "base_uri": "https://localhost:8080/"
        },
        "id": "Rrfs5LQtJWut",
        "outputId": "d4838210-a4dd-416e-cd27-30453412149e"
      },
      "execution_count": null,
      "outputs": [
        {
          "output_type": "stream",
          "name": "stdout",
          "text": [
            "Updated list: [1, 2, 3, 4, 10]\n"
          ]
        }
      ]
    },
    {
      "cell_type": "markdown",
      "source": [
        "8. Write a code to remove the number 3 from the list [1, 2, 3, 4, 5]"
      ],
      "metadata": {
        "id": "mXw21Z3gJhLy"
      }
    },
    {
      "cell_type": "code",
      "source": [
        "# Define the list\n",
        "numbers = [1, 2, 3, 4, 5]\n",
        "\n",
        "# Remove the number 3\n",
        "numbers.remove(3)\n",
        "\n",
        "# Print the updated list\n",
        "print(\"Updated list:\", numbers)\n"
      ],
      "metadata": {
        "colab": {
          "base_uri": "https://localhost:8080/"
        },
        "id": "uWsLXe5lJi7w",
        "outputId": "f76f71b7-28ab-4edd-bad5-8861d4dc0df8"
      },
      "execution_count": null,
      "outputs": [
        {
          "output_type": "stream",
          "name": "stdout",
          "text": [
            "Updated list: [1, 2, 4, 5]\n"
          ]
        }
      ]
    },
    {
      "cell_type": "markdown",
      "source": [
        "9. Write a code to access the second element in the list ['a', 'b', 'c', 'd']"
      ],
      "metadata": {
        "id": "GoBSJjulJoPv"
      }
    },
    {
      "cell_type": "code",
      "source": [
        "# Define the list\n",
        "letters = ['a', 'b', 'c', 'd']\n",
        "\n",
        "# Access the second element (index 1)\n",
        "second_element = letters[1]\n",
        "\n",
        "# Print the second element\n",
        "print(\"The second element is:\", second_element)\n"
      ],
      "metadata": {
        "colab": {
          "base_uri": "https://localhost:8080/"
        },
        "id": "gKZhRBHiJsXb",
        "outputId": "f35f0ed5-1f34-44d5-a6bc-1baf25ec090b"
      },
      "execution_count": null,
      "outputs": [
        {
          "output_type": "stream",
          "name": "stdout",
          "text": [
            "The second element is: b\n"
          ]
        }
      ]
    },
    {
      "cell_type": "markdown",
      "source": [
        "10. Write a code to reverse the list [10, 20, 30, 40, 50]."
      ],
      "metadata": {
        "id": "XHDaJJAzJ0pU"
      }
    },
    {
      "cell_type": "code",
      "source": [
        "# Define the list\n",
        "numbers = [10, 20, 30, 40, 50]\n",
        "\n",
        "# Reverse the list\n",
        "numbers.reverse()\n",
        "\n",
        "# Print the reversed list\n",
        "print(\"Reversed list:\", numbers)\n"
      ],
      "metadata": {
        "colab": {
          "base_uri": "https://localhost:8080/"
        },
        "id": "ULqrkvb0J4ip",
        "outputId": "d841fdac-5751-49b6-d3c4-06f46835b7ef"
      },
      "execution_count": null,
      "outputs": [
        {
          "output_type": "stream",
          "name": "stdout",
          "text": [
            "Reversed list: [50, 40, 30, 20, 10]\n"
          ]
        }
      ]
    },
    {
      "cell_type": "markdown",
      "source": [
        "11. Write a code to create a tuple with the elements 100, 200, 300 and print it"
      ],
      "metadata": {
        "id": "IcBkAAlEKEZI"
      }
    },
    {
      "cell_type": "code",
      "source": [
        "# Create a tuple with the elements\n",
        "my_tuple = (100, 200, 300)\n",
        "\n",
        "# Print the tuple\n",
        "print(\"Tuple:\", my_tuple)\n"
      ],
      "metadata": {
        "colab": {
          "base_uri": "https://localhost:8080/"
        },
        "id": "m3Gz5zWnKGA9",
        "outputId": "bfcc17ff-68c4-4170-b41b-4afa21eeb518"
      },
      "execution_count": null,
      "outputs": [
        {
          "output_type": "stream",
          "name": "stdout",
          "text": [
            "Tuple: (100, 200, 300)\n"
          ]
        }
      ]
    },
    {
      "cell_type": "markdown",
      "source": [
        "12. Write a code to access the second-to-last element of the tuple ('red', 'green', 'blue', 'yellow')."
      ],
      "metadata": {
        "id": "nK5PDXrLKMoW"
      }
    },
    {
      "cell_type": "code",
      "source": [
        "# Define the tuple\n",
        "colors = ('red', 'green', 'blue', 'yellow')\n",
        "\n",
        "# Access the second-to-last element using negative indexing\n",
        "second_to_last = colors[-2]\n",
        "\n",
        "# Print the element\n",
        "print(\"Second-to-last element:\", second_to_last)\n"
      ],
      "metadata": {
        "colab": {
          "base_uri": "https://localhost:8080/"
        },
        "id": "UK4lO-jJKSCv",
        "outputId": "0db2c208-f993-41f2-d927-bd637d58406c"
      },
      "execution_count": null,
      "outputs": [
        {
          "output_type": "stream",
          "name": "stdout",
          "text": [
            "Second-to-last element: blue\n"
          ]
        }
      ]
    },
    {
      "cell_type": "markdown",
      "source": [
        "13. Write a code to find the minimum number in the tuple (10, 20, 5, 15)."
      ],
      "metadata": {
        "id": "6OLopfphKYJU"
      }
    },
    {
      "cell_type": "code",
      "source": [
        "# Define the tuple\n",
        "numbers = (10, 20, 5, 15)\n",
        "\n",
        "# Find the minimum number\n",
        "minimum = min(numbers)\n",
        "\n",
        "# Print the minimum number\n",
        "print(\"Minimum number in the tuple:\", minimum)\n"
      ],
      "metadata": {
        "colab": {
          "base_uri": "https://localhost:8080/"
        },
        "id": "TlURNNqOKcNu",
        "outputId": "1df46511-d0da-4394-f3f6-5117ea76827a"
      },
      "execution_count": null,
      "outputs": [
        {
          "output_type": "stream",
          "name": "stdout",
          "text": [
            "Minimum number in the tuple: 5\n"
          ]
        }
      ]
    },
    {
      "cell_type": "markdown",
      "source": [
        "14. Write a code to find the index of the element \"cat\" in the tuple ('dog', 'cat', 'rabbit')."
      ],
      "metadata": {
        "id": "kZA0eKYKKh1K"
      }
    },
    {
      "cell_type": "code",
      "source": [
        "# Define the tuple\n",
        "animals = ('dog', 'cat', 'rabbit')\n",
        "\n",
        "# Find the index of \"cat\"\n",
        "index_cat = animals.index('cat')\n",
        "\n",
        "# Print the index\n",
        "print('Index of \"cat\":', index_cat)\n"
      ],
      "metadata": {
        "colab": {
          "base_uri": "https://localhost:8080/"
        },
        "id": "eA_3Ly63Kmbl",
        "outputId": "8dd8bb7c-b8ee-4376-85c1-b776ee6aafed"
      },
      "execution_count": null,
      "outputs": [
        {
          "output_type": "stream",
          "name": "stdout",
          "text": [
            "Index of \"cat\": 1\n"
          ]
        }
      ]
    },
    {
      "cell_type": "markdown",
      "source": [
        "15. Write a code to create a tuple containing three different fruits and check if \"kiwi\" is in it."
      ],
      "metadata": {
        "id": "fQA9bcC5Ksee"
      }
    },
    {
      "cell_type": "code",
      "source": [
        "# Create a tuple with three fruits\n",
        "fruits = ('apple', 'banana', 'orange')\n",
        "\n",
        "# Check if \"kiwi\" is in the tuple\n",
        "if \"kiwi\" in fruits:\n",
        "    print(\"Kiwi is in the tuple.\")\n",
        "else:\n",
        "    print(\"Kiwi is NOT in the tuple.\")\n"
      ],
      "metadata": {
        "colab": {
          "base_uri": "https://localhost:8080/"
        },
        "id": "SBXcHxcqKxha",
        "outputId": "5baf056c-895c-4c6b-ffde-7af8900cea2a"
      },
      "execution_count": null,
      "outputs": [
        {
          "output_type": "stream",
          "name": "stdout",
          "text": [
            "Kiwi is NOT in the tuple.\n"
          ]
        }
      ]
    },
    {
      "cell_type": "markdown",
      "source": [
        "16. Write a code to create a set with the elements 'a', 'b', 'c' and print it."
      ],
      "metadata": {
        "id": "4poxzVAIK45A"
      }
    },
    {
      "cell_type": "code",
      "source": [
        "# Create a set with elements 'a', 'b', 'c'\n",
        "my_set = {'a', 'b', 'c'}\n",
        "\n",
        "# Print the set\n",
        "print(\"Set:\", my_set)\n"
      ],
      "metadata": {
        "colab": {
          "base_uri": "https://localhost:8080/"
        },
        "id": "ygHBRBzFK9gm",
        "outputId": "4981d487-1ae2-491c-9066-8716aac38b9c"
      },
      "execution_count": null,
      "outputs": [
        {
          "output_type": "stream",
          "name": "stdout",
          "text": [
            "Set: {'b', 'a', 'c'}\n"
          ]
        }
      ]
    },
    {
      "cell_type": "markdown",
      "source": [
        "17. Write a code to clear all elements from the set {1, 2, 3, 4, 5}."
      ],
      "metadata": {
        "id": "XkfAUcGpLCp8"
      }
    },
    {
      "cell_type": "code",
      "source": [
        "# Define the set\n",
        "my_set = {1, 2, 3, 4, 5}\n",
        "\n",
        "# Clear all elements from the set\n",
        "my_set.clear()\n",
        "\n",
        "# Print the emptied set\n",
        "print(\"Set after clearing:\", my_set)\n"
      ],
      "metadata": {
        "colab": {
          "base_uri": "https://localhost:8080/"
        },
        "id": "ePfdrcd1LISU",
        "outputId": "29257ba2-17df-41c9-fc16-465a1dd67f4c"
      },
      "execution_count": null,
      "outputs": [
        {
          "output_type": "stream",
          "name": "stdout",
          "text": [
            "Set after clearing: set()\n"
          ]
        }
      ]
    },
    {
      "cell_type": "markdown",
      "source": [
        "18. Write a code to remove the element 4 from the set {1, 2, 3, 4}"
      ],
      "metadata": {
        "id": "Hd3L449sLNdf"
      }
    },
    {
      "cell_type": "code",
      "source": [
        "# Define the set\n",
        "my_set = {1, 2, 3, 4}\n",
        "\n",
        "# Remove element 4\n",
        "my_set.remove(4)\n",
        "\n",
        "# Print the updated set\n",
        "print(\"Set after removing 4:\", my_set)\n"
      ],
      "metadata": {
        "colab": {
          "base_uri": "https://localhost:8080/"
        },
        "id": "QFKFmMiXLQ5H",
        "outputId": "f42fd4c4-d43c-4888-ad37-cf2d1e9c6a06"
      },
      "execution_count": null,
      "outputs": [
        {
          "output_type": "stream",
          "name": "stdout",
          "text": [
            "Set after removing 4: {1, 2, 3}\n"
          ]
        }
      ]
    },
    {
      "cell_type": "markdown",
      "source": [
        "19. Write a code to find the union of two sets {1, 2, 3} and {3, 4, 5}."
      ],
      "metadata": {
        "id": "GTenquXaLWHK"
      }
    },
    {
      "cell_type": "code",
      "source": [
        "# Define the sets\n",
        "set1 = {1, 2, 3}\n",
        "set2 = {3, 4, 5}\n",
        "\n",
        "# Find the union of the two sets\n",
        "union_set = set1.union(set2)\n",
        "\n",
        "# Print the union\n",
        "print(\"Union of the sets:\", union_set)\n"
      ],
      "metadata": {
        "colab": {
          "base_uri": "https://localhost:8080/"
        },
        "id": "HmAGsLhLLaG7",
        "outputId": "64597c49-ddf3-4545-8874-938cc76b17a5"
      },
      "execution_count": null,
      "outputs": [
        {
          "output_type": "stream",
          "name": "stdout",
          "text": [
            "Union of the sets: {1, 2, 3, 4, 5}\n"
          ]
        }
      ]
    },
    {
      "cell_type": "markdown",
      "source": [
        "20. Write a code to find the intersection of two sets {1, 2, 3} and {2, 3, 4}."
      ],
      "metadata": {
        "id": "J1UZLD8yLgSu"
      }
    },
    {
      "cell_type": "code",
      "source": [
        "# Define the sets\n",
        "set1 = {1, 2, 3}\n",
        "set2 = {2, 3, 4}\n",
        "\n",
        "# Find the intersection of the two sets\n",
        "intersection_set = set1.intersection(set2)\n",
        "\n",
        "# Print the intersection\n",
        "print(\"Intersection of the sets:\", intersection_set)\n"
      ],
      "metadata": {
        "colab": {
          "base_uri": "https://localhost:8080/"
        },
        "id": "EbXMW-jPLkcu",
        "outputId": "52d0e97a-d3d8-4797-c706-3aea556a12cf"
      },
      "execution_count": null,
      "outputs": [
        {
          "output_type": "stream",
          "name": "stdout",
          "text": [
            "Intersection of the sets: {2, 3}\n"
          ]
        }
      ]
    },
    {
      "cell_type": "markdown",
      "source": [
        "21. Write a code to create a dictionary with the keys \"name\", \"age\", and \"city\", and print it."
      ],
      "metadata": {
        "id": "RIm0kDqrLqeE"
      }
    },
    {
      "cell_type": "code",
      "source": [
        "# Create the dictionary\n",
        "person = {\n",
        "    \"name\": \"Alice\",\n",
        "    \"age\": 30,\n",
        "    \"city\": \"New York\"\n",
        "}\n",
        "\n",
        "# Print the dictionary\n",
        "print(person)\n"
      ],
      "metadata": {
        "colab": {
          "base_uri": "https://localhost:8080/"
        },
        "id": "tsgIFiAgOgua",
        "outputId": "5c0f969b-738c-43bb-cfbd-4f3aa3235dd2"
      },
      "execution_count": null,
      "outputs": [
        {
          "output_type": "stream",
          "name": "stdout",
          "text": [
            "{'name': 'Alice', 'age': 30, 'city': 'New York'}\n"
          ]
        }
      ]
    },
    {
      "cell_type": "markdown",
      "source": [
        "22. Write a code to add a new key-value pair \"country\": \"USA\" to the dictionary {'name': 'John', 'age': 25}."
      ],
      "metadata": {
        "id": "XcWh0AVxL-k1"
      }
    },
    {
      "cell_type": "code",
      "source": [
        "# Original dictionary\n",
        "person = {'name': 'John', 'age': 25}\n",
        "\n",
        "# Add new key-value pair\n",
        "person['country'] = 'USA'\n",
        "\n",
        "# Print updated dictionary\n",
        "print(person)\n"
      ],
      "metadata": {
        "colab": {
          "base_uri": "https://localhost:8080/"
        },
        "id": "p2XAEAhbOr7G",
        "outputId": "20b7439f-0ef9-46ca-ea58-c2461634c56d"
      },
      "execution_count": null,
      "outputs": [
        {
          "output_type": "stream",
          "name": "stdout",
          "text": [
            "{'name': 'John', 'age': 25, 'country': 'USA'}\n"
          ]
        }
      ]
    },
    {
      "cell_type": "markdown",
      "source": [
        "23. Write a code to access the value associated with the key \"name\" in the dictionary {'name': 'Alice', 'age': 30}."
      ],
      "metadata": {
        "id": "Y7EVjAxtMKzD"
      }
    },
    {
      "cell_type": "code",
      "source": [
        "# Define the dictionary\n",
        "person = {'name': 'Alice', 'age': 30}\n",
        "\n",
        "# Access the value for the key \"name\"\n",
        "name_value = person['name']\n",
        "\n",
        "# Print the value\n",
        "print(name_value)\n"
      ],
      "metadata": {
        "colab": {
          "base_uri": "https://localhost:8080/"
        },
        "id": "IcbUQRucOYw7",
        "outputId": "7a6b2e3c-2079-4c77-c968-aff8dbe6e00d"
      },
      "execution_count": null,
      "outputs": [
        {
          "output_type": "stream",
          "name": "stdout",
          "text": [
            "Alice\n"
          ]
        }
      ]
    },
    {
      "cell_type": "code",
      "source": [
        "# Define the dictionary\n",
        "person = {'name': 'Alice', 'age': 30}\n",
        "\n",
        "# Access the value for the key \"name\"\n",
        "name_value = person['name']\n",
        "\n",
        "# Print the value\n",
        "print(\"Value associated with 'name':\", name_value)\n"
      ],
      "metadata": {
        "colab": {
          "base_uri": "https://localhost:8080/"
        },
        "id": "U11F7U_FMO0K",
        "outputId": "9c17aa37-3f14-44ff-81ed-3d14c0123190"
      },
      "execution_count": null,
      "outputs": [
        {
          "output_type": "stream",
          "name": "stdout",
          "text": [
            "Value associated with 'name': Alice\n"
          ]
        }
      ]
    },
    {
      "cell_type": "markdown",
      "source": [
        "24. Write a code to remove the key \"age\" from the dictionary {'name': 'Bob', 'age': 22, 'city': 'New York'}."
      ],
      "metadata": {
        "id": "8_w-QBIMMZwL"
      }
    },
    {
      "cell_type": "code",
      "source": [
        "# Define the dictionary\n",
        "person = {'name': 'Bob', 'age': 22, 'city': 'New York'}\n",
        "\n",
        "# Remove the key \"age\"\n",
        "person.pop('age')\n",
        "\n",
        "# Print the updated dictionary\n",
        "print(\"Dictionary after removing 'age':\", person)\n"
      ],
      "metadata": {
        "colab": {
          "base_uri": "https://localhost:8080/"
        },
        "id": "YkGXV2JvMbRk",
        "outputId": "eacb8299-8521-4294-b3d4-cd47a1230c1f"
      },
      "execution_count": null,
      "outputs": [
        {
          "output_type": "stream",
          "name": "stdout",
          "text": [
            "Dictionary after removing 'age': {'name': 'Bob', 'city': 'New York'}\n"
          ]
        }
      ]
    },
    {
      "cell_type": "markdown",
      "source": [
        "25. Write a code to check if the key \"city\" exists in the dictionary {'name': 'Alice', 'city': 'Paris'}."
      ],
      "metadata": {
        "id": "vBgBK6CWMgXA"
      }
    },
    {
      "cell_type": "code",
      "source": [
        "# Define the dictionary\n",
        "person = {'name': 'Alice', 'city': 'Paris'}\n",
        "\n",
        "# Check if the key \"city\" exists\n",
        "if 'city' in person:\n",
        "    print(\"Key 'city' exists in the dictionary.\")\n",
        "else:\n",
        "    print(\"Key 'city' does NOT exist in the dictionary.\")\n"
      ],
      "metadata": {
        "colab": {
          "base_uri": "https://localhost:8080/"
        },
        "id": "ZH8XVkcwNEke",
        "outputId": "17886b04-8aa1-488d-c6a6-09d7aa308c01"
      },
      "execution_count": null,
      "outputs": [
        {
          "output_type": "stream",
          "name": "stdout",
          "text": [
            "Key 'city' exists in the dictionary.\n"
          ]
        }
      ]
    },
    {
      "cell_type": "markdown",
      "source": [
        "26.  Write a code to create a list, a tuple, and a dictionary, and print them all."
      ],
      "metadata": {
        "id": "fzu7ousRNNFl"
      }
    },
    {
      "cell_type": "code",
      "source": [
        "# Create a list\n",
        "my_list = [1, 2, 3]\n",
        "\n",
        "# Create a tuple\n",
        "my_tuple = ('a', 'b', 'c')\n",
        "\n",
        "# Create a dictionary\n",
        "my_dict = {'name': 'Alice', 'age': 25}\n",
        "\n",
        "# Print all of them\n",
        "print(\"List:\", my_list)\n",
        "print(\"Tuple:\", my_tuple)\n",
        "print(\"Dictionary:\", my_dict)\n"
      ],
      "metadata": {
        "colab": {
          "base_uri": "https://localhost:8080/"
        },
        "id": "Qh-cvx8hNQxf",
        "outputId": "62800304-d372-4e42-aab7-b375c748e05d"
      },
      "execution_count": null,
      "outputs": [
        {
          "output_type": "stream",
          "name": "stdout",
          "text": [
            "List: [1, 2, 3]\n",
            "Tuple: ('a', 'b', 'c')\n",
            "Dictionary: {'name': 'Alice', 'age': 25}\n"
          ]
        }
      ]
    },
    {
      "cell_type": "markdown",
      "source": [
        "27. Write a code to create a list of 5 random numbers between 1 and 100, sort it in ascending order, and print the\n",
        "result.(replaced)"
      ],
      "metadata": {
        "id": "-c1J8cJCNWcw"
      }
    },
    {
      "cell_type": "code",
      "source": [
        "import random\n",
        "\n",
        "# Generate a list of 5 random numbers between 1 and 100\n",
        "random_numbers = [random.randint(1, 100) for _ in range(5)]\n",
        "\n",
        "# Sort the list in ascending order\n",
        "random_numbers.sort()\n",
        "\n",
        "# Print the sorted list\n",
        "print(\"Sorted list of random numbers:\", random_numbers)\n"
      ],
      "metadata": {
        "colab": {
          "base_uri": "https://localhost:8080/"
        },
        "id": "nMkERof7NaEo",
        "outputId": "01d07c3b-25af-41cc-d38f-c7bdb021f783"
      },
      "execution_count": null,
      "outputs": [
        {
          "output_type": "stream",
          "name": "stdout",
          "text": [
            "Sorted list of random numbers: [2, 15, 24, 24, 84]\n"
          ]
        }
      ]
    },
    {
      "cell_type": "markdown",
      "source": [
        "28. Write a code to create a list with strings and print the element at the third index."
      ],
      "metadata": {
        "id": "U-AR3CLbNiIn"
      }
    },
    {
      "cell_type": "code",
      "source": [
        "# Create a list with strings\n",
        "fruits = [\"apple\", \"banana\", \"cherry\", \"date\", \"elderberry\"]\n",
        "\n",
        "# Access and print the element at the third index\n",
        "print(\"Element at index 3:\", fruits[3])\n"
      ],
      "metadata": {
        "colab": {
          "base_uri": "https://localhost:8080/"
        },
        "id": "dM7CAdkQNoz2",
        "outputId": "f2a55334-035a-4a2c-8df8-b1a85ddddef5"
      },
      "execution_count": null,
      "outputs": [
        {
          "output_type": "stream",
          "name": "stdout",
          "text": [
            "Element at index 3: date\n"
          ]
        }
      ]
    },
    {
      "cell_type": "markdown",
      "source": [
        "29. Write a code to combine two dictionaries into one and print the result."
      ],
      "metadata": {
        "id": "WHUu1tjTNtvf"
      }
    },
    {
      "cell_type": "code",
      "source": [
        "# Define two dictionaries\n",
        "dict1 = {'a': 1, 'b': 2}\n",
        "dict2 = {'c': 3, 'd': 4}\n",
        "\n",
        "# Combine the dictionaries (Python 3.9+)\n",
        "combined_dict = dict1 | dict2\n",
        "\n",
        "# Print the combined dictionary\n",
        "print(\"Combined dictionary:\", combined_dict)\n"
      ],
      "metadata": {
        "colab": {
          "base_uri": "https://localhost:8080/"
        },
        "id": "L0r_NkLVNxG0",
        "outputId": "da854170-2c1b-4330-e564-32aba28c64ce"
      },
      "execution_count": null,
      "outputs": [
        {
          "output_type": "stream",
          "name": "stdout",
          "text": [
            "Combined dictionary: {'a': 1, 'b': 2, 'c': 3, 'd': 4}\n"
          ]
        }
      ]
    },
    {
      "cell_type": "markdown",
      "source": [
        "30. Write a code to convert a list of strings into a set."
      ],
      "metadata": {
        "id": "OWl9sHPqN3qv"
      }
    },
    {
      "cell_type": "code",
      "source": [
        "# Define a list of strings\n",
        "string_list = ['apple', 'banana', 'apple', 'cherry', 'banana']\n",
        "\n",
        "# Convert the list to a set to remove duplicates\n",
        "string_set = set(string_list)\n",
        "\n",
        "# Print the set\n",
        "print(\"Set:\", string_set)\n"
      ],
      "metadata": {
        "colab": {
          "base_uri": "https://localhost:8080/"
        },
        "id": "tYFX1NpsN7R5",
        "outputId": "4e2c7870-722d-4e8d-8e97-3568bc9dad1f"
      },
      "execution_count": null,
      "outputs": [
        {
          "output_type": "stream",
          "name": "stdout",
          "text": [
            "Set: {'apple', 'cherry', 'banana'}\n"
          ]
        }
      ]
    }
  ]
}